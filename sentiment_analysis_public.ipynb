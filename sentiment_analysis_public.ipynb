{
 "cells": [
  {
   "cell_type": "code",
   "execution_count": null,
   "metadata": {},
   "outputs": [],
   "source": [
    "import pandas as pd\n",
    "import nltk\n",
    "import os\n",
    "from dotenv import load_dotenv\n",
    "import typing\n",
    "import fmpsdk\n",
    "from nltk.sentiment.vader import SentimentIntensityAnalyzer\n",
    "nltk.download('vader_lexicon')"
   ]
  },
  {
   "cell_type": "code",
   "execution_count": 1,
   "metadata": {
    "ExecuteTime": {
     "end_time": "2021-09-20T20:13:38.793283Z",
     "start_time": "2021-09-20T20:13:38.777678Z"
    }
   },
   "outputs": [],
   "source": [
    "def sbe_sentiment_analysis(apikey, ticker, limit=50):\n",
    "    \"\"\"\n",
    "    IN: \n",
    "    apikey: This should be your personalized api key. You can get one here \n",
    "    (https://fmpcloud.io/)\n",
    "    ticker: This is the stock symbol as or trade name. e.g. TSLA, AAPL, GOOG\n",
    "    limit: This number references how far back in date you want to go. If you\n",
    "    want to find the date range please use get_timeframe() on this methods returned df.\n",
    "    \n",
    "    OUT: Pandas Dataframe\n",
    "    \"\"\"\n",
    "    \n",
    "    \n",
    "    \n",
    "    news = fmpsdk.stock_news(apikey=apikey, tickers=[ticker], limit=limit)\n",
    "    df = pd.DataFrame(columns=['Date', 'Title', 'Text', 'CompoundScoreTitle',\n",
    "                          'PositveScoreTitle', 'NegativeScoreTitle', \n",
    "                          'CompoundScoreText', 'NeutralScoreTitle',\n",
    "                           'NeutralScoreText', 'textLeans', 'titleLeans',\n",
    "                          'PositveScoreText', 'NegativeScoreText',\n",
    "                          'CompoundAvg'])\n",
    "    \n",
    "    dates = []\n",
    "    titles = []\n",
    "    text_ = []\n",
    "\n",
    "\n",
    "    for article in news:\n",
    "        dates.append(article['publishedDate'])\n",
    "        titles.append(article['title'])\n",
    "        text_.append(article['text']) \n",
    "    df.Date = dates\n",
    "    df.Title = titles\n",
    "    df.Text = text_\n",
    "    \n",
    "\n",
    "    sid = SentimentIntensityAnalyzer()\n",
    "    \n",
    "    df.CompoundScoreTitle = df.Title.apply(lambda title:\n",
    "    sid.polarity_scores(title)['compound'])\n",
    "\n",
    "    df.PositveScoreTitle = df.Title.apply(lambda title:\n",
    "        sid.polarity_scores(title)['pos'])\n",
    "\n",
    "    df.NegativeScoreTitle = df.Title.apply(lambda title:\n",
    "        sid.polarity_scores(title)['neg'])\n",
    "\n",
    "    df.NeutralScoreTitle = df.Title.apply(lambda title:\n",
    "        sid.polarity_scores(title)['neu'])\n",
    "\n",
    "    df.CompoundScoreText = df.Text.apply(lambda text:\n",
    "        sid.polarity_scores(text)['compound'])\n",
    "\n",
    "    df.PositveScoreText = df.Text.apply(lambda text:\n",
    "        sid.polarity_scores(text)['pos'])\n",
    "\n",
    "    df.NegativeScoreText = df.Text.apply(lambda text:\n",
    "        sid.polarity_scores(text)['neg'])\n",
    "\n",
    "    df.NeutralScoreText = df.Text.apply(lambda text:\n",
    "        sid.polarity_scores(text)['neu'])\n",
    "    \n",
    "    df.titleLeans = df.CompoundScoreTitle.apply(lambda score:\n",
    "                    'Negative' if score < 0 \n",
    "                     else('Positive' if score > 0\n",
    "                          else('Neutral')))\n",
    "                        \n",
    "    df.textLeans = df.CompoundScoreText.apply(lambda score:\n",
    "                        'Negative' if score < 0 \n",
    "                         else('Positive' if score > 0\n",
    "                              else('Neutral')))\n",
    "    \n",
    "    df.CompoundAvg = (df.CompoundScoreTitle + df.CompoundScoreText)/2\n",
    "    \n",
    "    return df  "
   ]
  },
  {
   "cell_type": "code",
   "execution_count": 2,
   "metadata": {
    "ExecuteTime": {
     "end_time": "2021-09-20T20:13:40.989626Z",
     "start_time": "2021-09-20T20:13:40.985895Z"
    }
   },
   "outputs": [],
   "source": [
    "def get_timeframe(df):\n",
    "    start = df.Date[len(df)-1][0:10]\n",
    "    stop = df.Date[0][0:10]\n",
    "    return(start)"
   ]
  },
  {
   "cell_type": "code",
   "execution_count": null,
   "metadata": {},
   "outputs": [],
   "source": []
  }
 ],
 "metadata": {
  "kernelspec": {
   "display_name": "Python 3",
   "language": "python",
   "name": "python3"
  },
  "language_info": {
   "codemirror_mode": {
    "name": "ipython",
    "version": 3
   },
   "file_extension": ".py",
   "mimetype": "text/x-python",
   "name": "python",
   "nbconvert_exporter": "python",
   "pygments_lexer": "ipython3",
   "version": "3.8.5"
  },
  "latex_envs": {
   "LaTeX_envs_menu_present": true,
   "autoclose": false,
   "autocomplete": true,
   "bibliofile": "biblio.bib",
   "cite_by": "apalike",
   "current_citInitial": 1,
   "eqLabelWithNumbers": true,
   "eqNumInitial": 1,
   "hotkeys": {
    "equation": "Ctrl-E",
    "itemize": "Ctrl-I"
   },
   "labels_anchors": false,
   "latex_user_defs": false,
   "report_style_numbering": false,
   "user_envs_cfg": false
  },
  "toc": {
   "base_numbering": 1,
   "nav_menu": {},
   "number_sections": true,
   "sideBar": true,
   "skip_h1_title": false,
   "title_cell": "Table of Contents",
   "title_sidebar": "Contents",
   "toc_cell": false,
   "toc_position": {},
   "toc_section_display": true,
   "toc_window_display": false
  }
 },
 "nbformat": 4,
 "nbformat_minor": 4
}
